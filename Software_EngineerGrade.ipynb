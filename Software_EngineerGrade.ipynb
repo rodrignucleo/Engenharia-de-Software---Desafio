{
  "nbformat": 4,
  "nbformat_minor": 0,
  "metadata": {
    "colab": {
      "name": "Software EngineerGrade.ipynb",
      "provenance": [],
      "collapsed_sections": [],
      "authorship_tag": "ABX9TyN5j6qJsaYwvw1cI44Omk2J",
      "include_colab_link": true
    },
    "kernelspec": {
      "display_name": "Python 3",
      "name": "python3"
    }
  },
  "cells": [
    {
      "cell_type": "markdown",
      "metadata": {
        "id": "view-in-github",
        "colab_type": "text"
      },
      "source": [
        "<a href=\"https://colab.research.google.com/github/rodrignucleo/Engenharia-de-Software---Desafio/blob/main/Software_EngineerGrade.ipynb\" target=\"_parent\"><img src=\"https://colab.research.google.com/assets/colab-badge.svg\" alt=\"Open In Colab\"/></a>"
      ]
    },
    {
      "cell_type": "code",
      "metadata": {
        "id": "_UolypsXIB0Q",
        "colab": {
          "base_uri": "https://localhost:8080/"
        },
        "outputId": "37a0ee26-8faf-4b58-e745-7348dedd09df"
      },
      "source": [
        "!pip install --upgrade gspread"
      ],
      "execution_count": 275,
      "outputs": [
        {
          "output_type": "stream",
          "text": [
            "Requirement already up-to-date: gspread in /usr/local/lib/python3.7/dist-packages (3.7.0)\n",
            "Requirement already satisfied, skipping upgrade: google-auth-oauthlib>=0.4.1 in /usr/local/lib/python3.7/dist-packages (from gspread) (0.4.2)\n",
            "Requirement already satisfied, skipping upgrade: google-auth>=1.12.0 in /usr/local/lib/python3.7/dist-packages (from gspread) (1.27.0)\n",
            "Requirement already satisfied, skipping upgrade: requests-oauthlib>=0.7.0 in /usr/local/lib/python3.7/dist-packages (from google-auth-oauthlib>=0.4.1->gspread) (1.3.0)\n",
            "Requirement already satisfied, skipping upgrade: cachetools<5.0,>=2.0.0 in /usr/local/lib/python3.7/dist-packages (from google-auth>=1.12.0->gspread) (4.2.1)\n",
            "Requirement already satisfied, skipping upgrade: pyasn1-modules>=0.2.1 in /usr/local/lib/python3.7/dist-packages (from google-auth>=1.12.0->gspread) (0.2.8)\n",
            "Requirement already satisfied, skipping upgrade: setuptools>=40.3.0 in /usr/local/lib/python3.7/dist-packages (from google-auth>=1.12.0->gspread) (54.0.0)\n",
            "Requirement already satisfied, skipping upgrade: six>=1.9.0 in /usr/local/lib/python3.7/dist-packages (from google-auth>=1.12.0->gspread) (1.15.0)\n",
            "Requirement already satisfied, skipping upgrade: rsa<5,>=3.1.4; python_version >= \"3.6\" in /usr/local/lib/python3.7/dist-packages (from google-auth>=1.12.0->gspread) (4.7.2)\n",
            "Requirement already satisfied, skipping upgrade: requests>=2.0.0 in /usr/local/lib/python3.7/dist-packages (from requests-oauthlib>=0.7.0->google-auth-oauthlib>=0.4.1->gspread) (2.23.0)\n",
            "Requirement already satisfied, skipping upgrade: oauthlib>=3.0.0 in /usr/local/lib/python3.7/dist-packages (from requests-oauthlib>=0.7.0->google-auth-oauthlib>=0.4.1->gspread) (3.1.0)\n",
            "Requirement already satisfied, skipping upgrade: pyasn1<0.5.0,>=0.4.6 in /usr/local/lib/python3.7/dist-packages (from pyasn1-modules>=0.2.1->google-auth>=1.12.0->gspread) (0.4.8)\n",
            "Requirement already satisfied, skipping upgrade: chardet<4,>=3.0.2 in /usr/local/lib/python3.7/dist-packages (from requests>=2.0.0->requests-oauthlib>=0.7.0->google-auth-oauthlib>=0.4.1->gspread) (3.0.4)\n",
            "Requirement already satisfied, skipping upgrade: urllib3!=1.25.0,!=1.25.1,<1.26,>=1.21.1 in /usr/local/lib/python3.7/dist-packages (from requests>=2.0.0->requests-oauthlib>=0.7.0->google-auth-oauthlib>=0.4.1->gspread) (1.24.3)\n",
            "Requirement already satisfied, skipping upgrade: certifi>=2017.4.17 in /usr/local/lib/python3.7/dist-packages (from requests>=2.0.0->requests-oauthlib>=0.7.0->google-auth-oauthlib>=0.4.1->gspread) (2020.12.5)\n",
            "Requirement already satisfied, skipping upgrade: idna<3,>=2.5 in /usr/local/lib/python3.7/dist-packages (from requests>=2.0.0->requests-oauthlib>=0.7.0->google-auth-oauthlib>=0.4.1->gspread) (2.10)\n"
          ],
          "name": "stdout"
        }
      ]
    },
    {
      "cell_type": "code",
      "metadata": {
        "id": "21KUDuQ7LbF-"
      },
      "source": [
        "from google.colab import auth\r\n",
        "auth.authenticate_user()\r\n",
        "\r\n",
        "import gspread\r\n",
        "from oauth2client.client import GoogleCredentials\r\n",
        "\r\n",
        "gc = gspread.authorize(GoogleCredentials.get_application_default())\r\n",
        "#variable \"gc\" is used in authentication for opening access of account google"
      ],
      "execution_count": 276,
      "outputs": []
    },
    {
      "cell_type": "code",
      "metadata": {
        "id": "k1ZmJpGZNzjz"
      },
      "source": [
        "spreasheet = gc.open('EngenhariadeSoftwareDesafioRodrigoRibeiroB')\r\n",
        "\r\n",
        "#opening the chosen worksheet"
      ],
      "execution_count": 277,
      "outputs": []
    },
    {
      "cell_type": "code",
      "metadata": {
        "id": "IXMT513VYEfe"
      },
      "source": [
        "import pandas as pd\r\n",
        "#importing the \"pandas\" library to use and manipulate the spreadsheet"
      ],
      "execution_count": 278,
      "outputs": []
    },
    {
      "cell_type": "code",
      "metadata": {
        "id": "QV4VmM4lZBdJ"
      },
      "source": [
        "EngenhariadeSoftwareDesafioRodrigoRibeiroB = pd.DataFrame(page.get_all_records())"
      ],
      "execution_count": 279,
      "outputs": []
    },
    {
      "cell_type": "code",
      "metadata": {
        "id": "Ox5-zD9Zkpug",
        "colab": {
          "base_uri": "https://localhost:8080/"
        },
        "outputId": "63daaceb-0001-4337-af0a-ef2a1d9c54d1"
      },
      "source": [
        "#\"for\" is for traveling between the datas of worksheet\r\n",
        "for counter in range(24):\r\n",
        "\r\n",
        "#\"m\" it is using for calculate data and give the final note of student\r\n",
        "  m = round((((float(page.cell(counter + 4, 4).value) + float(page.cell(counter + 4, 5).value) + float(page.cell(counter + 4, 6).value))/3)/10), 0)\r\n",
        "\r\n",
        "  if(((float(page.cell(counter + 4, 3).value)/60)*100) <= 25):\r\n",
        "      if(m < 5):\r\n",
        "        page.update_cell(counter + 4, 7, 'Reprovado por nota')\r\n",
        "        page.update_cell(counter + 4, 8, '0')\r\n",
        "        print(\"R\", counter + 1, m)\r\n",
        "\r\n",
        "      if((m >= 5) and (m < 7)):\r\n",
        "        page.update_cell(counter + 4, 7, 'Exame Final')\r\n",
        "        \r\n",
        "        if((m + 5)/2 >= 5 ):\r\n",
        "          page.update_cell(counter + 4, 8, round(((m + 5)/2), 0))\r\n",
        "          print(\"E\", counter + 1, m)\r\n",
        "\r\n",
        "      if(m >= 7):\r\n",
        "        page.update_cell(counter + 4, 7, 'Aprovado')\r\n",
        "        page.update_cell(counter + 4, 8, '0')\r\n",
        "        print(\"A\" , counter + 1, m)\r\n",
        "  \r\n",
        "  if(((float(page.cell(counter + 4, 3).value)/60)*100) > 25):\r\n",
        "    page.update_cell(counter + 4, 7, 'Reprovado por falta')\r\n",
        "    page.update_cell(counter + 4, 8, '0')"
      ],
      "execution_count": 284,
      "outputs": [
        {
          "output_type": "stream",
          "text": [
            "E 1 5.0\n",
            "A 2 7.0\n",
            "E 5 6.0\n",
            "E 7 6.0\n",
            "A 8 8.0\n",
            "E 9 6.0\n",
            "E 10 5.0\n",
            "E 11 6.0\n",
            "E 12 6.0\n",
            "E 14 5.0\n",
            "E 16 5.0\n",
            "A 18 7.0\n",
            "R 19 4.0\n",
            "A 22 8.0\n",
            "A 23 7.0\n",
            "A 24 8.0\n"
          ],
          "name": "stdout"
        }
      ]
    }
  ]
}